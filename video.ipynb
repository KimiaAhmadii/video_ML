{
 "cells": [
  {
   "cell_type": "code",
   "execution_count": 3,
   "metadata": {},
   "outputs": [],
   "source": [
    "import cv2 "
   ]
  },
  {
   "cell_type": "code",
   "execution_count": 29,
   "metadata": {},
   "outputs": [],
   "source": [
    "cam = cv2.VideoCapture (0)\n",
    "\n",
    "face= cv2.CascadeClassifier(\"haarcascade_frontalface_alt.xml\")\n",
    "eye= cv2.CascadeClassifier(\"haarcascade_eye.xml\")\n",
    " \n",
    "loop= True\n",
    "while loop :\n",
    "   _, webcam= cam.read()\n",
    "      \n",
    "\n",
    "   img1= cv2.cvtColor(webcam, cv2.COLOR_BGR2GRAY)\n",
    "   img2= face.detectMultiScale(img1)\n",
    "  \n",
    "   x= img2[0][0]\n",
    "   y= img2[0][1]\n",
    "   x1= x+img2[0][2]  \n",
    "   y1= y+img2[0][3]\n",
    "\n",
    "   gray_face = img1[y:y1,x:x1]\n",
    "\n",
    "   img3= eye.detectMultiScale(gray_face,minSize=(30,30), scaleFactor=1.1, minNeighbors=20)\n",
    "   cv2.rectangle(webcam,(x,y),(x1,y1),(5,5,540),10)\n",
    "\n",
    "   for (xb,yb,w,h) in img3:\n",
    "     cv2.rectangle(webcam,(xb+x,yb+y),(xb+w+x,yb+h+y),(500,51,54),5)\n",
    "   \n",
    "   cv2.imshow('bjfs', webcam)\n",
    "   if cv2.waitKey(1)== ord('q'):\n",
    "    loop = False\n",
    "   \n",
    "    break\n",
    "\n",
    "cv2.destroyAllWindows()\n"
   ]
  }
 ],
 "metadata": {
  "kernelspec": {
   "display_name": "base",
   "language": "python",
   "name": "python3"
  },
  "language_info": {
   "codemirror_mode": {
    "name": "ipython",
    "version": 3
   },
   "file_extension": ".py",
   "mimetype": "text/x-python",
   "name": "python",
   "nbconvert_exporter": "python",
   "pygments_lexer": "ipython3",
   "version": "3.8.8"
  }
 },
 "nbformat": 4,
 "nbformat_minor": 2
}
